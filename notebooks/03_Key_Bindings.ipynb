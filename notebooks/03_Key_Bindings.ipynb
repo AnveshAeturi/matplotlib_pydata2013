{
 "metadata": {
  "name": "03_Key_Bindings"
 },
 "nbformat": 3,
 "nbformat_minor": 0,
 "worksheets": [
  {
   "cells": [
    {
     "cell_type": "code",
     "collapsed": false,
     "input": [
      "import sys\n",
      "fig, ax = plt.subplots()\n",
      "\n",
      "def key_press(event):\n",
      "    print event.key\n",
      "    sys.stdout.flush()\n",
      "    \n",
      "def button_press(event):\n",
      "    print event.x, event.y\n",
      "    sys.stdout.flush()\n",
      "    \n",
      "fig.canvas.mpl_connect('key_press_event', key_press)\n",
      "fig.canvas.mpl_connect('button_press_event', button_press)"
     ],
     "language": "python",
     "metadata": {},
     "outputs": []
    }
   ],
   "metadata": {}
  }
 ]
}