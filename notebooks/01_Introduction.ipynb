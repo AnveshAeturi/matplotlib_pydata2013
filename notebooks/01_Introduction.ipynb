{
 "metadata": {
  "name": "01_Introduction"
 },
 "nbformat": 3,
 "nbformat_minor": 0,
 "worksheets": [
  {
   "cells": [
    {
     "cell_type": "heading",
     "level": 1,
     "metadata": {},
     "source": [
      "Introduction: IPython Notebook & Object Oriented Matplotlib"
     ]
    },
    {
     "cell_type": "markdown",
     "metadata": {},
     "source": [
      "We'll start with a quick introduction to using matplotlib with the IPython notebook,\n",
      "and run through some examples of object oriented matplotlib."
     ]
    },
    {
     "cell_type": "heading",
     "level": 2,
     "metadata": {},
     "source": [
      "IPython Notebook"
     ]
    },
    {
     "cell_type": "markdown",
     "metadata": {},
     "source": [
      "The IPython notebook is designed to be used seamlessly with matplotlib.\n",
      "\n",
      "When you start the notebook, you can type\n",
      "\n",
      "    [laptop]% ipython notebook --pylab\n",
      "\n",
      "or\n",
      "\n",
      "    [laptop]% ipython notebook --pylab inline\n",
      "\n",
      "The result of the first is to set up the notebook so that matplotlib figures\n",
      "can be used interactively within the notebook.  The result of the second is\n",
      "that figures are embedded statically within the notebook page."
     ]
    },
    {
     "cell_type": "markdown",
     "metadata": {},
     "source": [
      "If you start the notebook without either of these annotations, you can enter the\n",
      "``pylab`` or ``pylab inline`` mode using one of IPython's magic functions.  For\n",
      "example, you can type in a notebook cell:\n",
      "\n",
      "    In [ ]: %pylab\n",
      "\n",
      "or\n",
      "\n",
      "    In [ ]: %pylab inline\n",
      "\n",
      "respectively, to get the same result as above.\n",
      "\n",
      "Note that once you've called one of these, you cannot switch mid-session.  In\n",
      "order to change, you must restart the kernel, using either the option in the\n",
      "``Kernel`` menu above, or the shortcut\n",
      "\n",
      "    Ctrl-m .\n",
      "\n",
      "(for a list of available shortcuts, see the help menu: ``Ctrl-m h``)\n",
      "Once you have restarted the kernel, you can change the pylab mode\n",
      "and re-run your code.\n",
      "\n",
      "Take a moment and see the effect of creating a simple plot using either\n",
      "pylab mode or pylab inline mode:"
     ]
    },
    {
     "cell_type": "code",
     "collapsed": false,
     "input": [
      "%pylab inline"
     ],
     "language": "python",
     "metadata": {},
     "outputs": []
    },
    {
     "cell_type": "code",
     "collapsed": false,
     "input": [
      "from matplotlib import rcParams\n",
      "print rcParams['backend']"
     ],
     "language": "python",
     "metadata": {},
     "outputs": []
    },
    {
     "cell_type": "code",
     "collapsed": false,
     "input": [
      "x = np.linspace(0, 10, 1000)\n",
      "plt.plot(x, np.sin(x))"
     ],
     "language": "python",
     "metadata": {},
     "outputs": []
    },
    {
     "cell_type": "heading",
     "level": 2,
     "metadata": {},
     "source": [
      "Object-oriented Matplotlib"
     ]
    },
    {
     "cell_type": "markdown",
     "metadata": {},
     "source": [
      "Matplotlib was originally designed to be used like matlab.  For this reason, the library\n",
      "maintains pointers to the currently active figure and axes.  It makes simple plots pretty\n",
      "easy.  For example:"
     ]
    },
    {
     "cell_type": "code",
     "collapsed": false,
     "input": [
      "import pylab  # note that this import is automatic in %pylab or %pylab inline mode"
     ],
     "language": "python",
     "metadata": {},
     "outputs": []
    },
    {
     "cell_type": "code",
     "collapsed": false,
     "input": [
      "pylab.figure()  # this is optional: if you just call plot(), a figure will be created\n",
      "pylab.plot(x, np.sin(x))\n",
      "pylab.title('plot 1: sine')\n",
      "\n",
      "pylab.figure()\n",
      "pylab.plot(x, np.cos(x))\n",
      "pylab.title('plot 2: cosine')"
     ],
     "language": "python",
     "metadata": {},
     "outputs": []
    },
    {
     "cell_type": "markdown",
     "metadata": {},
     "source": [
      "This is fine for simple plots, but when you start wanting to do more powerful\n",
      "things, it can get a little bit tricky.  A better way to approach it might\n",
      "be like this:"
     ]
    },
    {
     "cell_type": "code",
     "collapsed": false,
     "input": [
      "import matplotlib.pyplot as plt  # Again, in pylab mode this import happens automatically\n",
      "\n",
      "fig1 = plt.figure()\n",
      "ax1 = fig1.add_subplot(1, 1, 1)\n",
      "ax1.plot(x, np.sin(x))\n",
      "ax1.set_title('sine')\n",
      "\n",
      "fig2 = plt.figure()\n",
      "ax2 = fig2.add_subplot(1, 1, 1)\n",
      "ax2.plot(x, np.cos(x))\n",
      "ax2.set_title('cosine')"
     ],
     "language": "python",
     "metadata": {},
     "outputs": []
    },
    {
     "cell_type": "markdown",
     "metadata": {},
     "source": [
      "In this instance, all the typing might seem a bit gratuitous.  But as our plot\n",
      "objects get more and more complicated, explicitly keeping track of the figures\n",
      "and axes will make our lives increasingly easier.\n",
      "\n",
      "Also, because we don't care about which plot is active at any given time, it\n",
      "gives us the freedom to write code in any order.  The following generates\n",
      "the same plot output as the previous snippet, but makes more clear the\n",
      "relationship between the two figures:"
     ]
    },
    {
     "cell_type": "code",
     "collapsed": false,
     "input": [
      "fig1 = plt.figure()\n",
      "fig2 = plt.figure()\n",
      "\n",
      "ax1 = fig1.add_subplot(1, 1, 1)\n",
      "ax2 = fig2.add_subplot(1, 1, 1)\n",
      "\n",
      "ax1.plot(x, np.sin(x))\n",
      "ax2.plot(x, np.cos(x))\n",
      "\n",
      "ax1.set_title('sine')\n",
      "ax2.set_title('cosine')"
     ],
     "language": "python",
     "metadata": {},
     "outputs": []
    }
   ],
   "metadata": {}
  }
 ]
}