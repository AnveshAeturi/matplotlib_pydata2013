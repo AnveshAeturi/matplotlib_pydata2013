{
 "metadata": {
  "name": "03_Widgets"
 },
 "nbformat": 3,
 "nbformat_minor": 0,
 "worksheets": [
  {
   "cells": [
    {
     "cell_type": "heading",
     "level": 1,
     "metadata": {},
     "source": [
      "Adding Interactivity: Widgets"
     ]
    },
    {
     "cell_type": "markdown",
     "metadata": {},
     "source": [
      "Widgets are objects built-in to Matplotlib which build upon the event callbacks\n",
      "we previously discussed, encapsulating more complicated behavior.  There are many\n",
      "possibilities available, and we'll go through a few of them here."
     ]
    },
    {
     "cell_type": "code",
     "collapsed": false,
     "input": [
      "%pylab"
     ],
     "language": "python",
     "metadata": {},
     "outputs": []
    },
    {
     "cell_type": "heading",
     "level": 2,
     "metadata": {},
     "source": [
      "Buttons"
     ]
    },
    {
     "cell_type": "markdown",
     "metadata": {},
     "source": [
      "A button in matplotlib is exactly what you think it is: a clickable region, in which\n",
      "clicking returns a callback that can be linked to any action.\n",
      "\n",
      "A simple button can be created like this:"
     ]
    },
    {
     "cell_type": "code",
     "collapsed": false,
     "input": [
      "from matplotlib.widgets import Button\n",
      "\n",
      "fig = plt.figure()\n",
      "\n",
      "def callback(event):\n",
      "    print \"clicked:\", event\n",
      "    sys.stdout.flush()\n",
      "\n",
      "ax1 = plt.axes([0.2, 0.5, 0.1, 0.075])\n",
      "ax2 = plt.axes([0.7, 0.5, 0.1, 0.075])\n",
      "\n",
      "b1 = Button(ax1, 'Button 1')\n",
      "b1.on_clicked(callback)\n",
      "\n",
      "b2 = Button(ax2, 'Button 2')\n",
      "b2.on_clicked(callback)"
     ],
     "language": "python",
     "metadata": {},
     "outputs": []
    },
    {
     "cell_type": "code",
     "collapsed": false,
     "input": [
      "from matplotlib.widgets import Button\n",
      "\n",
      "fig, ax = plt.subplots()\n",
      "fig.subplots_adjust(bottom=0.2)\n",
      "\n",
      "t = np.linspace(0, 10, 1000)\n",
      "line, = plt.plot(t, np.sin(t), lw=2)\n",
      "\n",
      "class Index:\n",
      "    dt = 0\n",
      "    def next(self, event):\n",
      "        self.dt -= 1\n",
      "        line.set_ydata(np.sin(t + self.dt))\n",
      "        fig.canvas.draw()\n",
      "\n",
      "    def prev(self, event):\n",
      "        self.dt += 1\n",
      "        line.set_ydata(np.sin(t + self.dt))\n",
      "        fig.canvas.draw()\n",
      "\n",
      "callback = Index()\n",
      "axprev = plt.axes([0.7, 0.05, 0.1, 0.075])\n",
      "axnext = plt.axes([0.81, 0.05, 0.1, 0.075])\n",
      "\n",
      "bnext = Button(axnext, '>')\n",
      "bnext.on_clicked(callback.next)\n",
      "\n",
      "bprev = Button(axprev, '<')\n",
      "bprev.on_clicked(callback.prev)"
     ],
     "language": "python",
     "metadata": {},
     "outputs": []
    },
    {
     "cell_type": "heading",
     "level": 2,
     "metadata": {},
     "source": [
      "Sliders"
     ]
    },
    {
     "cell_type": "markdown",
     "metadata": {},
     "source": [
      "A Slider is another type of widget which can be used to select a\n",
      "continuous value.  Let's see an example similar to the previous\n",
      "one:"
     ]
    },
    {
     "cell_type": "code",
     "collapsed": false,
     "input": [
      "from matplotlib.widgets import Button\n",
      "\n",
      "fig, ax = plt.subplots()\n",
      "fig.subplots_adjust(bottom=0.2, left=0.1)\n",
      "\n",
      "t = np.linspace(0, 10, 1000)\n",
      "line, = plt.plot(t, np.sin(t), lw=2)\n",
      "\n",
      "def on_change(val):\n",
      "    line.set_ydata(np.sin(t - val))\n",
      "\n",
      "slider_ax = plt.axes([0.1, 0.1, 0.8, 0.02])\n",
      "slider = Slider(slider_ax, \"Offset\", -5, 5, valinit=0, color='#AAAAAA')\n",
      "slider.on_changed(on_change)"
     ],
     "language": "python",
     "metadata": {},
     "outputs": []
    },
    {
     "cell_type": "heading",
     "level": 2,
     "metadata": {},
     "source": [
      "Selectors"
     ]
    },
    {
     "cell_type": "heading",
     "level": 2,
     "metadata": {},
     "source": [
      "Check Buttons"
     ]
    },
    {
     "cell_type": "heading",
     "level": 2,
     "metadata": {},
     "source": [
      "Radio Buttons"
     ]
    },
    {
     "cell_type": "heading",
     "level": 2,
     "metadata": {},
     "source": [
      "Cursor Trackers"
     ]
    },
    {
     "cell_type": "heading",
     "level": 2,
     "metadata": {},
     "source": [
      "Exercise: Zooming to the Cube"
     ]
    },
    {
     "cell_type": "markdown",
     "metadata": {},
     "source": [
      "Let's return to the cube we were using before.  Here we'll create a slider\n",
      "which controls the zoom on the cube."
     ]
    },
    {
     "cell_type": "code",
     "collapsed": false,
     "input": [
      "from tutorial_lib.simple_cube import Cube\n",
      "c = Cube()\n",
      "\n",
      "# Create the figure and axes, and add the cube to the axes\n",
      "\n",
      "# create a slider titled \"perspective\" with values from 1 to 20\n",
      "\n",
      "# set the slider so that the following function is called when it is changed:\n",
      "def on_change(val):\n",
      "    c.set_view((0, 0, val))\n",
      "    ax.set_xlim(-val, val)\n",
      "    ax.set_ylim(-val, val)\n",
      "    fig.canvas.draw()"
     ],
     "language": "python",
     "metadata": {},
     "outputs": []
    },
    {
     "cell_type": "markdown",
     "metadata": {},
     "source": [
      "**Bonus:** combine the slider with the rotation scripts we used previously,\n",
      "so that you can zoom into the cube with the slider, and rotate the cube with\n",
      "the mouse."
     ]
    },
    {
     "cell_type": "code",
     "collapsed": false,
     "input": [],
     "language": "python",
     "metadata": {},
     "outputs": []
    }
   ],
   "metadata": {}
  }
 ]
}