{
 "metadata": {
  "name": "03_Widgets"
 },
 "nbformat": 3,
 "nbformat_minor": 0,
 "worksheets": [
  {
   "cells": [
    {
     "cell_type": "heading",
     "level": 1,
     "metadata": {},
     "source": [
      "Adding Interactivity: Widgets"
     ]
    },
    {
     "cell_type": "code",
     "collapsed": false,
     "input": [
      "%pylab"
     ],
     "language": "python",
     "metadata": {},
     "outputs": [
      {
       "output_type": "stream",
       "stream": "stdout",
       "text": [
        "\n",
        "Welcome to pylab, a matplotlib-based Python environment [backend: MacOSX].\n",
        "For more information, type 'help(pylab)'.\n"
       ]
      }
     ],
     "prompt_number": 2
    },
    {
     "cell_type": "code",
     "collapsed": false,
     "input": [
      "from matplotlib.widgets import Button\n",
      "\n",
      "fig, ax = plt.subplots()\n",
      "fig.subplots_adjust(bottom=0.2)\n",
      "\n",
      "t = np.linspace(0, 10, 1000)\n",
      "s = np.sin(t)\n",
      "line, = plt.plot(t, s, lw=2)\n",
      "\n",
      "def on_next(event):\n",
      "    print event\n",
      "    t += dt\n",
      "    ydata = np.sin(t)\n",
      "    line.set_ydata(ydata)\n",
      "    fig.canvas.draw()\n",
      "\n",
      "def on_prev(event):\n",
      "    print event\n",
      "    t -= dt\n",
      "    ydata = np.sin(t)\n",
      "    line.set_ydata(ydata)\n",
      "    fig.canvas.draw()\n",
      "\n",
      "axprev = fig.add_axes([0.7, 0.05, 0.1, 0.075])\n",
      "axnext = fig.add_axes([0.81, 0.05, 0.1, 0.075])\n",
      "\n",
      "bnext = Button(axnext, 'Next')\n",
      "bprev = Button(axprev, 'Previous')\n",
      "\n",
      "bnext.on_clicked(on_next)\n",
      "bprev.on_clicked(on_prev)"
     ],
     "language": "python",
     "metadata": {},
     "outputs": [
      {
       "output_type": "stream",
       "stream": "stdout",
       "text": [
        "\n"
       ]
      },
      {
       "output_type": "pyout",
       "prompt_number": 9,
       "text": [
        "0"
       ]
      },
      {
       "output_type": "stream",
       "stream": "stdout",
       "text": [
        "MPL MouseEvent: xy=(555,50) xydata=(0.571875,0.722222222222) button=1 dblclick=False inaxes=Axes(0.81,0.05;0.1x0.075)\n",
        "MPL MouseEvent: xy=(555,50) xydata=(0.571875,0.722222222222) button=1 dblclick=False inaxes=Axes(0.81,0.05;0.1x0.075)"
       ]
      },
      {
       "output_type": "stream",
       "stream": "stdout",
       "text": [
        "\n",
        "MPL MouseEvent: xy=(555,50) xydata=(0.571875,0.722222222222) button=1 dblclick=False inaxes=Axes(0.81,0.05;0.1x0.075)"
       ]
      },
      {
       "output_type": "stream",
       "stream": "stdout",
       "text": [
        "\n",
        "MPL MouseEvent: xy=(488,33) xydata=(0.625,0.25) button=1 dblclick=False inaxes=Axes(0.7,0.05;0.1x0.075)"
       ]
      },
      {
       "output_type": "stream",
       "stream": "stdout",
       "text": [
        "\n",
        "MPL MouseEvent: xy=(488,33) xydata=(0.625,0.25) button=1 dblclick=False inaxes=Axes(0.7,0.05;0.1x0.075)"
       ]
      }
     ],
     "prompt_number": 9
    },
    {
     "cell_type": "code",
     "collapsed": false,
     "input": [
      "from matplotlib.widgets import Button\n",
      "\n",
      "freqs = np.arange(2, 20, 3)\n",
      "\n",
      "ax = plt.subplot(111)\n",
      "plt.subplots_adjust(bottom=0.2)\n",
      "t = np.arange(0.0, 1.0, 0.001)\n",
      "s = np.sin(2*np.pi*freqs[0]*t)\n",
      "l, = plt.plot(t, s, lw=2)\n",
      "\n",
      "\n",
      "class Index:\n",
      "    ind = 0\n",
      "    def next(self, event):\n",
      "        self.ind += 1\n",
      "        i = self.ind % len(freqs)\n",
      "        ydata = np.sin(2*np.pi*freqs[i]*t)\n",
      "        l.set_ydata(ydata)\n",
      "        plt.draw()\n",
      "\n",
      "    def prev(self, event):\n",
      "        self.ind -= 1\n",
      "        i = self.ind % len(freqs)\n",
      "        ydata = np.sin(2*np.pi*freqs[i]*t)\n",
      "        l.set_ydata(ydata)\n",
      "        plt.draw()\n",
      "\n",
      "callback = Index()\n",
      "axprev = plt.axes([0.7, 0.05, 0.1, 0.075])\n",
      "axnext = plt.axes([0.81, 0.05, 0.1, 0.075])\n",
      "\n",
      "bnext = Button(axnext, 'Next')\n",
      "bnext.on_clicked(callback.next)\n",
      "\n",
      "bprev = Button(axprev, 'Previous')\n",
      "bprev.on_clicked(callback.prev)"
     ],
     "language": "python",
     "metadata": {},
     "outputs": [
      {
       "output_type": "pyout",
       "prompt_number": 4,
       "text": [
        "0"
       ]
      }
     ],
     "prompt_number": 4
    },
    {
     "cell_type": "code",
     "collapsed": false,
     "input": [],
     "language": "python",
     "metadata": {},
     "outputs": []
    }
   ],
   "metadata": {}
  }
 ]
}