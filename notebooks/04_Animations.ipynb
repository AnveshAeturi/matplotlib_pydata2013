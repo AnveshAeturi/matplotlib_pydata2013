{
 "metadata": {
  "name": "04_Animations"
 },
 "nbformat": 3,
 "nbformat_minor": 0,
 "worksheets": [
  {
   "cells": [
    {
     "cell_type": "heading",
     "level": 1,
     "metadata": {},
     "source": [
      "Animations in Matplotlib"
     ]
    },
    {
     "cell_type": "code",
     "collapsed": false,
     "input": [
      "%pylab"
     ],
     "language": "python",
     "metadata": {},
     "outputs": []
    },
    {
     "cell_type": "markdown",
     "metadata": {},
     "source": [
      "We showed previously how to create basic animations in matplotlib\n",
      "using a simple canvas update:"
     ]
    },
    {
     "cell_type": "code",
     "collapsed": false,
     "input": [
      "fig, ax = plt.subplots()\n",
      "x = np.linspace(0, 10, 1000)\n",
      "lines = ax.plot(x, np.sin(x), lw=2)"
     ],
     "language": "python",
     "metadata": {},
     "outputs": []
    },
    {
     "cell_type": "code",
     "collapsed": false,
     "input": [
      "for i in range(100):\n",
      "    lines[0].set_ydata(np.sin(x + 0.1 * i))\n",
      "    fig.canvas.draw()"
     ],
     "language": "python",
     "metadata": {},
     "outputs": []
    },
    {
     "cell_type": "markdown",
     "metadata": {},
     "source": [
      "The problem with this approach is that it can operate unpredictably\n",
      "between different backends, and may not even run on some!  Also, if\n",
      "you'd like to save the animation to file, you must do a lot of things\n",
      "by hand.  Thankfully, the Matplotlib team put together a very nice\n",
      "animation package in the version 1.1 release.  Creating animations is\n",
      "fairly simple with this tool, as we'll see now.\n",
      "\n",
      "Note that this framework is not without its own issues: in particular,\n",
      "animations will not work within the MacOSX backend (see, for example,\n",
      "https://github.com/matplotlib/matplotlib/issues/531)"
     ]
    },
    {
     "cell_type": "heading",
     "level": 2,
     "metadata": {},
     "source": [
      "Creating a Basic Animation"
     ]
    },
    {
     "cell_type": "markdown",
     "metadata": {},
     "source": [
      "Creating a basic animation is a matter of initializing the plot,\n",
      "creating functions to update the frames, and passing these functions\n",
      "to an animation object.\n",
      "\n",
      "We start by setting up a normal matplotlib figure:"
     ]
    },
    {
     "cell_type": "code",
     "collapsed": false,
     "input": [
      "import matplotlib.pyplot as plt\n",
      "import numpy as np\n",
      "\n",
      "# First set up the figure, the axis, and the plot element we want to animate\n",
      "fig = plt.figure()\n",
      "ax = plt.axes(xlim=(0, 2), ylim=(-2, 2))\n",
      "line, = ax.plot([], [], lw=2)"
     ],
     "language": "python",
     "metadata": {},
     "outputs": []
    },
    {
     "cell_type": "markdown",
     "metadata": {},
     "source": [
      "Next we'll create an ``init()`` function and an ``animate()`` function.\n",
      "\n",
      "The purpose of the ``init()`` function is to set the background of the\n",
      "animation: it should essentially hide any plot elements that you don't\n",
      "want to be shown in every frame.\n",
      "\n",
      "The purpose of the ``animate()`` function is to update the plot elements\n",
      "for each frame."
     ]
    },
    {
     "cell_type": "code",
     "collapsed": false,
     "input": [
      "%run ../examples/basic_animation.py"
     ],
     "language": "python",
     "metadata": {},
     "outputs": []
    },
    {
     "cell_type": "code",
     "collapsed": false,
     "input": [
      "# initialization function: plot the background of each frame\n",
      "def init():\n",
      "    line.set_data([], [])\n",
      "    return line,"
     ],
     "language": "python",
     "metadata": {},
     "outputs": []
    },
    {
     "cell_type": "code",
     "collapsed": false,
     "input": [
      "# animation function.  This is called sequentially\n",
      "x = np.linspace(0, 2, 1000)\n",
      "\n",
      "def animate(i):\n",
      "    y = np.sin(2 * np.pi * (x - 0.01 * i))\n",
      "    line.set_data(x, y)\n",
      "    return line,"
     ],
     "language": "python",
     "metadata": {},
     "outputs": []
    },
    {
     "cell_type": "markdown",
     "metadata": {},
     "source": [
      "Creating the animation now is a matter of passing these initialization and\n",
      "frame-step functions to the animator:"
     ]
    },
    {
     "cell_type": "code",
     "collapsed": false,
     "input": [
      "from matplotlib import animation\n",
      "\n",
      "# call the animator.  blit=True means only re-draw the parts that have changed.\n",
      "anim = animation.FuncAnimation(fig, animate, init_func=init,\n",
      "                               frames=200, interval=20, blit=True)"
     ],
     "language": "python",
     "metadata": {},
     "outputs": []
    },
    {
     "cell_type": "code",
     "collapsed": false,
     "input": [
      "# save the animation as an mp4.  This requires ffmpeg or mencoder to be\n",
      "# installed.  The extra_args ensure that the x264 codec is used, so that\n",
      "# the video can be embedded in html5.  You may need to adjust this for\n",
      "# your system: for more information, see\n",
      "# http://matplotlib.sourceforge.net/api/animation_api.html\n",
      "anim.save('basic_animation.mp4', fps=30, extra_args=['-vcodec', 'libx264'])"
     ],
     "language": "python",
     "metadata": {},
     "outputs": []
    }
   ],
   "metadata": {}
  }
 ]
}