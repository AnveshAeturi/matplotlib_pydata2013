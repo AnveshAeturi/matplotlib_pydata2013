{
 "metadata": {
  "name": "02_Key_Bindings"
 },
 "nbformat": 3,
 "nbformat_minor": 0,
 "worksheets": [
  {
   "cells": [
    {
     "cell_type": "heading",
     "level": 1,
     "metadata": {},
     "source": [
      "Adding Interactivity: Key Bindings and Callbacks"
     ]
    },
    {
     "cell_type": "markdown",
     "metadata": {},
     "source": [
      "A little known aspect of matplotlib is the presence of key bindings and callback\n",
      "functions in matplotlib.  The main interface to these is through the ``plt.connect``\n",
      "interface.  You can see the various events by looking at the documentation string\n",
      "of the connect function:"
     ]
    },
    {
     "cell_type": "code",
     "collapsed": false,
     "input": [
      "%pylab"
     ],
     "language": "python",
     "metadata": {},
     "outputs": []
    },
    {
     "cell_type": "code",
     "collapsed": false,
     "input": [
      "print help(plt.connect)"
     ],
     "language": "python",
     "metadata": {},
     "outputs": []
    },
    {
     "cell_type": "heading",
     "level": 2,
     "metadata": {},
     "source": [
      "Keyboard Callbacks"
     ]
    },
    {
     "cell_type": "markdown",
     "metadata": {},
     "source": [
      "Using these sorts of callbacks is extremely straightforward.  For example, here is\n",
      "how you can create an axis which responds to key presses:"
     ]
    },
    {
     "cell_type": "code",
     "collapsed": false,
     "input": [
      "import sys\n",
      "fig, ax = plt.subplots()\n",
      "\n",
      "def on_key_press(event):\n",
      "    print event.key\n",
      "    sys.stdout.flush()\n",
      "    \n",
      "fig.canvas.mpl_connect('key_press_event', on_key_press)"
     ],
     "language": "python",
     "metadata": {},
     "outputs": []
    },
    {
     "cell_type": "markdown",
     "metadata": {},
     "source": [
      "You might notice that if you hit the ``s`` key here, you get some somewhat\n",
      "unexpected behavior.  Matplotlib has some key-bound shortcuts that are activated\n",
      "by default: here's how to turn them off:"
     ]
    },
    {
     "cell_type": "code",
     "collapsed": false,
     "input": [
      "def turn_off_default_bindings(fig):\n",
      "    fig.canvas.mpl_disconnect(fig.canvas.manager.key_press_handler_id)\n",
      "    "
     ],
     "language": "python",
     "metadata": {},
     "outputs": []
    },
    {
     "cell_type": "code",
     "collapsed": false,
     "input": [
      "import sys\n",
      "fig, ax = plt.subplots()\n",
      "\n",
      "def on_key_press(event):\n",
      "    print event.key\n",
      "    sys.stdout.flush()\n",
      "\n",
      "turn_off_default_bindings(fig)\n",
      "fig.canvas.mpl_connect('key_press_event', on_key_press)"
     ],
     "language": "python",
     "metadata": {},
     "outputs": []
    },
    {
     "cell_type": "heading",
     "level": 2,
     "metadata": {},
     "source": [
      "Mouse Callbacks"
     ]
    },
    {
     "cell_type": "markdown",
     "metadata": {},
     "source": [
      "Similarly, we can bind mouse button press events.  Note that the button press event\n",
      "stores both the **pixel** value of the event location, as well as the **data** value\n",
      "of the event location."
     ]
    },
    {
     "cell_type": "code",
     "collapsed": false,
     "input": [
      "import sys\n",
      "fig, ax = plt.subplots()\n",
      "\n",
      "def on_button_press(event):\n",
      "    print \"Figure coordinates:\", event.x, event.y\n",
      "    print \"Data coordinates:\", event.xdata, event.ydata\n",
      "    sys.stdout.flush()\n",
      "    \n",
      "fig.canvas.mpl_connect('button_press_event', on_button_press)"
     ],
     "language": "python",
     "metadata": {},
     "outputs": []
    },
    {
     "cell_type": "markdown",
     "metadata": {},
     "source": [
      "Another interesting mouse event is the ``motion_notify_event``.  Here, rather than the\n",
      "callback being activated whenever the mouse button is clicked, it is activated whenever\n",
      "the mouse is moved."
     ]
    },
    {
     "cell_type": "code",
     "collapsed": false,
     "input": [
      "import sys\n",
      "fig, ax = plt.subplots()\n",
      "\n",
      "def on_mouse_move(event):\n",
      "    print \"Data coordinates:\", event.xdata, event.ydata\n",
      "    sys.stdout.flush()\n",
      "    \n",
      "fig.canvas.mpl_connect('motion_notify_event', on_mouse_move)"
     ],
     "language": "python",
     "metadata": {},
     "outputs": []
    },
    {
     "cell_type": "heading",
     "level": 2,
     "metadata": {},
     "source": [
      "Quick Example: Manipulating a Polygon"
     ]
    },
    {
     "cell_type": "markdown",
     "metadata": {},
     "source": [
      "We can do even more interesting things if we allow the callbacks to affect the plot\n",
      "itself.  Here we'll create a polygon, and use a `button_press_event` so that when\n",
      "we click in the polygon region, it changes color:"
     ]
    },
    {
     "cell_type": "code",
     "collapsed": false,
     "input": [
      "fig, ax = plt.subplots()\n",
      "ax.set_xlim(-1, 2)\n",
      "ax.set_ylim(-1, 2)\n",
      "rect = plt.Rectangle((0, 0), 1, 1, fc=np.random.random(3))\n",
      "ax.add_patch(rect)\n",
      "\n",
      "def on_click(event):\n",
      "    x, y = event.xdata, event.ydata\n",
      "    if (x > 0) and (x < 1) and (y > 0) and (y < 1):\n",
      "        rect.set_fc(np.random.random(3))\n",
      "        fig.canvas.draw()\n",
      "    \n",
      "fig.canvas.mpl_connect('button_press_event', on_click)"
     ],
     "language": "python",
     "metadata": {},
     "outputs": []
    },
    {
     "cell_type": "heading",
     "level": 2,
     "metadata": {},
     "source": [
      "Picking Events"
     ]
    },
    {
     "cell_type": "markdown",
     "metadata": {},
     "source": [
      "Because clicking on polygons and other plot elements is such a common piece of many APIs,\n",
      "there is a cleaner and simpler way to do this: a pick event.  A pick event is an event\n",
      "associated with any **artist** instance on the plot.  We can re-create our random polygon\n",
      "example using pick events in this way:"
     ]
    },
    {
     "cell_type": "code",
     "collapsed": false,
     "input": [
      "fig, ax = plt.subplots()\n",
      "ax.set_xlim(-1, 2)\n",
      "ax.set_ylim(-1, 2)\n",
      "rect = plt.Rectangle((0, 0), 1, 1, fc=np.random.random(3), picker=True)\n",
      "ax.add_patch(rect)\n",
      "\n",
      "def on_pick(event):\n",
      "    artist = event.artist\n",
      "    artist.set_fc(np.random.random(3))\n",
      "    fig.canvas.draw()\n",
      "    \n",
      "fig.canvas.mpl_connect('pick_event', on_pick)"
     ],
     "language": "python",
     "metadata": {},
     "outputs": []
    },
    {
     "cell_type": "markdown",
     "metadata": {},
     "source": [
      "We can do a similar thing for a line rather than a polygon:"
     ]
    },
    {
     "cell_type": "code",
     "collapsed": false,
     "input": [
      "fig, ax = plt.subplots()\n",
      "x = np.linspace(0, 10, 1000)\n",
      "ax.plot(x, np.sin(x), c=np.random.random(3), lw=3, picker=5) # 5 points tolerance\n",
      "ax.plot(x, np.cos(x), c=np.random.random(3), lw=3, picker=5) # 5 points tolerance\n",
      "\n",
      "def on_pick(event):\n",
      "    artist = event.artist\n",
      "    artist.set_color(np.random.random(3))\n",
      "    fig.canvas.draw()\n",
      "    \n",
      "fig.canvas.mpl_connect('pick_event', on_pick)"
     ],
     "language": "python",
     "metadata": {},
     "outputs": []
    },
    {
     "cell_type": "heading",
     "level": 2,
     "metadata": {},
     "source": [
      "Going a bit crazy... "
     ]
    },
    {
     "cell_type": "markdown",
     "metadata": {},
     "source": [
      "Now we'll do a bit of an exercise based on a [blog post](http://jakevdp.github.com/blog/2012/11/24/simple-3d-visualization-in-matplotlib/)\n",
      "that I did a while ago.  I've written some code which will show a 3D cube on the matplotlib canvas, and your task is to add event\n",
      "hooks that allow it to be manipulated."
     ]
    }
   ],
   "metadata": {}
  }
 ]
}