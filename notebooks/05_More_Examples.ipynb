{
 "metadata": {
  "name": "05_going_further"
 },
 "nbformat": 3,
 "nbformat_minor": 0,
 "worksheets": [
  {
   "cells": [
    {
     "cell_type": "heading",
     "level": 1,
     "metadata": {},
     "source": [
      "Going Further... Insane & Ridiculous Matplotlib Applications"
     ]
    },
    {
     "cell_type": "heading",
     "level": 2,
     "metadata": {},
     "source": [
      "Minesweeper"
     ]
    },
    {
     "cell_type": "markdown",
     "metadata": {},
     "source": [
      "blah"
     ]
    },
    {
     "cell_type": "code",
     "collapsed": false,
     "input": [
      "%run ../examples/minesweeper.py"
     ],
     "language": "python",
     "metadata": {},
     "outputs": [],
     "prompt_number": 7
    },
    {
     "cell_type": "heading",
     "level": 2,
     "metadata": {},
     "source": [
      "Rubik's Cube"
     ]
    },
    {
     "cell_type": "markdown",
     "metadata": {},
     "source": [
      "blah"
     ]
    },
    {
     "cell_type": "code",
     "collapsed": false,
     "input": [
      "%run ../examples/cube_interactive.py"
     ],
     "language": "python",
     "metadata": {},
     "outputs": [],
     "prompt_number": 6
    }
   ],
   "metadata": {}
  }
 ]
}